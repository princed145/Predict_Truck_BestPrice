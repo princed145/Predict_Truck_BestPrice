{
 "cells": [
  {
   "cell_type": "code",
   "execution_count": 48,
   "id": "77cd84ee",
   "metadata": {},
   "outputs": [],
   "source": [
    "import pandas as pd\n",
    "import matplotlib.pyplot as plt\n",
    "from sklearn.linear_model import LinearRegression\n",
    "from sklearn.tree import DecisionTreeRegressor\n",
    "import numpy as np\n",
    "from sklearn.model_selection import train_test_split, cross_val_score\n",
    "from sklearn.metrics import mean_squared_error, r2_score, mean_absolute_error\n",
    "from sklearn.svm import SVR"
   ]
  },
  {
   "cell_type": "markdown",
   "id": "9dec6f0c",
   "metadata": {},
   "source": [
    "**PROBLEM STATEMENT**"
   ]
  },
  {
   "cell_type": "markdown",
   "id": "be1e4b73",
   "metadata": {},
   "source": [
    " To Predict best prices for listed prices of a GMC truck."
   ]
  },
  {
   "cell_type": "markdown",
   "id": "bf4fbebd",
   "metadata": {},
   "source": [
    "**LOADING THE CSV FILE WITH PANDAS DATAFRAME**"
   ]
  },
  {
   "cell_type": "code",
   "execution_count": 49,
   "id": "1732032b",
   "metadata": {},
   "outputs": [],
   "source": [
    "data = pd.read_csv('trucks.csv')"
   ]
  },
  {
   "cell_type": "markdown",
   "id": "edd5a485",
   "metadata": {},
   "source": [
    "**TAKING QUICK LOOK AT THE DATA STRUCTURE**"
   ]
  },
  {
   "cell_type": "code",
   "execution_count": 50,
   "id": "16f391e0",
   "metadata": {},
   "outputs": [
    {
     "name": "stdout",
     "output_type": "stream",
     "text": [
      "<class 'pandas.core.frame.DataFrame'>\n",
      "RangeIndex: 23 entries, 0 to 22\n",
      "Data columns (total 2 columns):\n",
      " #   Column      Non-Null Count  Dtype  \n",
      "---  ------      --------------  -----  \n",
      " 0   list_price  23 non-null     float64\n",
      " 1   best_price  23 non-null     float64\n",
      "dtypes: float64(2)\n",
      "memory usage: 496.0 bytes\n"
     ]
    }
   ],
   "source": [
    "data.info()"
   ]
  },
  {
   "cell_type": "code",
   "execution_count": 51,
   "id": "3a16dc60",
   "metadata": {},
   "outputs": [
    {
     "data": {
      "text/html": [
       "<div>\n",
       "<style scoped>\n",
       "    .dataframe tbody tr th:only-of-type {\n",
       "        vertical-align: middle;\n",
       "    }\n",
       "\n",
       "    .dataframe tbody tr th {\n",
       "        vertical-align: top;\n",
       "    }\n",
       "\n",
       "    .dataframe thead th {\n",
       "        text-align: right;\n",
       "    }\n",
       "</style>\n",
       "<table border=\"1\" class=\"dataframe\">\n",
       "  <thead>\n",
       "    <tr style=\"text-align: right;\">\n",
       "      <th></th>\n",
       "      <th>list_price</th>\n",
       "      <th>best_price</th>\n",
       "    </tr>\n",
       "  </thead>\n",
       "  <tbody>\n",
       "    <tr>\n",
       "      <th>count</th>\n",
       "      <td>23.000000</td>\n",
       "      <td>23.000000</td>\n",
       "    </tr>\n",
       "    <tr>\n",
       "      <th>mean</th>\n",
       "      <td>17.465217</td>\n",
       "      <td>15.300000</td>\n",
       "    </tr>\n",
       "    <tr>\n",
       "      <th>std</th>\n",
       "      <td>2.413901</td>\n",
       "      <td>2.057580</td>\n",
       "    </tr>\n",
       "    <tr>\n",
       "      <th>min</th>\n",
       "      <td>12.400000</td>\n",
       "      <td>11.200000</td>\n",
       "    </tr>\n",
       "    <tr>\n",
       "      <th>25%</th>\n",
       "      <td>15.800000</td>\n",
       "      <td>14.050000</td>\n",
       "    </tr>\n",
       "    <tr>\n",
       "      <th>50%</th>\n",
       "      <td>17.299999</td>\n",
       "      <td>15.100000</td>\n",
       "    </tr>\n",
       "    <tr>\n",
       "      <th>75%</th>\n",
       "      <td>19.300000</td>\n",
       "      <td>16.849999</td>\n",
       "    </tr>\n",
       "    <tr>\n",
       "      <th>max</th>\n",
       "      <td>22.400000</td>\n",
       "      <td>19.600000</td>\n",
       "    </tr>\n",
       "  </tbody>\n",
       "</table>\n",
       "</div>"
      ],
      "text/plain": [
       "       list_price  best_price\n",
       "count   23.000000   23.000000\n",
       "mean    17.465217   15.300000\n",
       "std      2.413901    2.057580\n",
       "min     12.400000   11.200000\n",
       "25%     15.800000   14.050000\n",
       "50%     17.299999   15.100000\n",
       "75%     19.300000   16.849999\n",
       "max     22.400000   19.600000"
      ]
     },
     "execution_count": 51,
     "metadata": {},
     "output_type": "execute_result"
    }
   ],
   "source": [
    "data.describe()"
   ]
  },
  {
   "cell_type": "code",
   "execution_count": 52,
   "id": "7b263786",
   "metadata": {},
   "outputs": [
    {
     "data": {
      "text/plain": [
       "Index(['list_price', 'best_price'], dtype='object')"
      ]
     },
     "execution_count": 52,
     "metadata": {},
     "output_type": "execute_result"
    }
   ],
   "source": [
    "data.columns"
   ]
  },
  {
   "cell_type": "code",
   "execution_count": 53,
   "id": "557680cf",
   "metadata": {},
   "outputs": [
    {
     "data": {
      "text/plain": [
       "list_price    0\n",
       "best_price    0\n",
       "dtype: int64"
      ]
     },
     "execution_count": 53,
     "metadata": {},
     "output_type": "execute_result"
    }
   ],
   "source": [
    "data.isna().sum()   # their is no missing value in the dataset"
   ]
  },
  {
   "cell_type": "markdown",
   "id": "12d55de4",
   "metadata": {},
   "source": [
    "**SPLITTING INTO TRAINING AND TESTING DATA** "
   ]
  },
  {
   "cell_type": "code",
   "execution_count": 54,
   "id": "ac1dacac",
   "metadata": {},
   "outputs": [],
   "source": [
    "x = data.list_price\n",
    "y = data.best_price\n",
    "X_train, X_test, Y_train, Y_test = train_test_split(x, y, test_size=0.2)"
   ]
  },
  {
   "cell_type": "markdown",
   "id": "38f28386",
   "metadata": {},
   "source": [
    "**DISCOVER AND VISUALIZE THE DATA TO GAIN INSIGHTS**"
   ]
  },
  {
   "cell_type": "code",
   "execution_count": 55,
   "id": "deae9391",
   "metadata": {},
   "outputs": [
    {
     "data": {
      "text/plain": [
       "Text(0, 0.5, 'Best Price')"
      ]
     },
     "execution_count": 55,
     "metadata": {},
     "output_type": "execute_result"
    },
    {
     "data": {
      "image/png": "[encoded data removed]",
      "text/plain": [
       "<Figure size 432x288 with 1 Axes>"
      ]
     },
     "metadata": {
      "needs_background": "light"
     },
     "output_type": "display_data"
    }
   ],
   "source": [
    "# As per graph their is a linear relationship between list_price and best_price\n",
    "plt.scatter(x= data.list_price, y = data.best_price)\n",
    "plt.xlabel('List Price')\n",
    "plt.ylabel('Best Price')"
   ]
  },
  {
   "cell_type": "markdown",
   "id": "81efb613",
   "metadata": {},
   "source": [
    "**PREPARING THE DATA FOR MACHINE LEARNING ALOGORITHM**"
   ]
  },
  {
   "cell_type": "code",
   "execution_count": 56,
   "id": "4a0976de",
   "metadata": {},
   "outputs": [],
   "source": [
    "# Converting the data to numpy array as the per requirements \n",
    "X_train = np.array(X_train).reshape((-1, 1))\n",
    "Y_train = np.array(Y_train)\n",
    "X_test = np.array(X_test).reshape((-1, 1))\n",
    "Y_test =  np.array(Y_test)"
   ]
  },
  {
   "cell_type": "markdown",
   "id": "0c1a5155",
   "metadata": {},
   "source": [
    "**MODEL-1 (LINEAR REGRESSION)**"
   ]
  },
  {
   "cell_type": "code",
   "execution_count": 57,
   "id": "21e2b411",
   "metadata": {},
   "outputs": [
    {
     "data": {
      "text/plain": [
       "LinearRegression()"
      ]
     },
     "execution_count": 57,
     "metadata": {},
     "output_type": "execute_result"
    }
   ],
   "source": [
    "# Creating Linear regression object\n",
    "lm = LinearRegression()\n",
    "lm"
   ]
  },
  {
   "cell_type": "code",
   "execution_count": 58,
   "id": "c0b1b81d",
   "metadata": {},
   "outputs": [
    {
     "data": {
      "text/plain": [
       "LinearRegression()"
      ]
     },
     "execution_count": 58,
     "metadata": {},
     "output_type": "execute_result"
    }
   ],
   "source": [
    "# Fitting X and Y training set into linear model\n",
    "lm.fit(X_train,Y_train)"
   ]
  },
  {
   "cell_type": "code",
   "execution_count": 14,
   "id": "dfeedfe7",
   "metadata": {},
   "outputs": [
    {
     "name": "stdout",
     "output_type": "stream",
     "text": [
      "Predicted Best Price: [16.10416751 12.61376908 18.48785554 14.4866659  13.55021708 16.44469391\n",
      " 16.95548431 19.50943473 13.12455868 15.6785091  15.16771869 17.21088033\n",
      " 13.63534909 10.99626666 16.78522192 15.2528507  12.78403228 14.9123243 ]\n",
      "Orginal Best Price: [16.10000038 12.5        18.60000038 14.39999962 13.39999962 16.39999962\n",
      " 16.89999962 19.60000038 13.10000038 15.60000038 15.10000038 17.20000076\n",
      " 14.         11.19999981 16.79999924 15.19999981 12.69999981 14.89999962]\n"
     ]
    }
   ],
   "source": [
    "# Predicting the value of Y with x_train and linear regression object and observing the difference \n",
    "Yhat = lm.predict(X_train)\n",
    "print(\"Predicted Best Price:\", Yhat)\n",
    "print(\"Orginal Best Price:\", Y_train)"
   ]
  },
  {
   "cell_type": "code",
   "execution_count": 15,
   "id": "89f53770",
   "metadata": {},
   "outputs": [
    {
     "name": "stdout",
     "output_type": "stream",
     "text": [
      "Coefficient: 0.85\n",
      "Intercept: 0.44\n"
     ]
    }
   ],
   "source": [
    "print(\"Coefficient: %.2f\" % lm.coef_)\n",
    "print(\"Intercept: %.2f\" % lm.intercept_)"
   ]
  },
  {
   "cell_type": "code",
   "execution_count": 16,
   "id": "c1c8274a",
   "metadata": {},
   "outputs": [
    {
     "data": {
      "text/plain": [
       "[<matplotlib.lines.Line2D at 0x17dacab7940>]"
      ]
     },
     "execution_count": 16,
     "metadata": {},
     "output_type": "execute_result"
    },
    {
     "data": {
      "image/png": "[encoded data removed]",
      "text/plain": [
       "<Figure size 432x288 with 1 Axes>"
      ]
     },
     "metadata": {
      "needs_background": "light"
     },
     "output_type": "display_data"
    }
   ],
   "source": [
    "# Plotting linear regression model on graph\n",
    "plt.scatter(data.list_price, data.best_price)\n",
    "plt.plot(X_train, lm.predict(X_train), color='red')"
   ]
  },
  {
   "cell_type": "markdown",
   "id": "fedd746c",
   "metadata": {},
   "source": [
    "**EVALUATING LINEAR REGRESSION MODEL**(MAE, RMSE, R2 SCORE)"
   ]
  },
  {
   "cell_type": "code",
   "execution_count": 17,
   "id": "f6932ca5",
   "metadata": {},
   "outputs": [
    {
     "name": "stdout",
     "output_type": "stream",
     "text": [
      "Mean Absolute Error: 0.087\n",
      "Root Mean Squared Error: 0.121\n",
      "R2 Score: 0.998\n"
     ]
    }
   ],
   "source": [
    "# Since our data has less outliers Mean Square Error(MSE) will be best method to start with evaluating \n",
    "print(\"Mean Absolute Error: %.3f\" % mean_absolute_error(Y_train, Yhat))\n",
    "print(\"Root Mean Squared Error: %.3f\" % np.sqrt(mean_squared_error(Y_train, Yhat)))\n",
    "print(\"R2 Score: %.3f\" % np.sqrt(r2_score(Y_train, Yhat))) #  % of y data is explained by x "
   ]
  },
  {
   "cell_type": "code",
   "execution_count": 18,
   "id": "9cd53aba",
   "metadata": {},
   "outputs": [
    {
     "data": {
      "text/plain": [
       "array([[12.39999962],\n",
       "       [14.30000019],\n",
       "       [14.5       ],\n",
       "       [14.89999962],\n",
       "       [16.10000038],\n",
       "       [16.89999962],\n",
       "       [16.5       ],\n",
       "       [15.39999962],\n",
       "       [17.        ],\n",
       "       [17.89999962],\n",
       "       [18.79999924],\n",
       "       [20.29999924],\n",
       "       [22.39999962],\n",
       "       [19.39999962],\n",
       "       [15.5       ],\n",
       "       [16.70000076],\n",
       "       [17.29999924],\n",
       "       [18.39999962],\n",
       "       [19.20000076],\n",
       "       [17.39999962],\n",
       "       [19.5       ],\n",
       "       [19.70000076],\n",
       "       [21.20000076]])"
      ]
     },
     "execution_count": 18,
     "metadata": {},
     "output_type": "execute_result"
    }
   ],
   "source": [
    "# Converting list_price and best_price variable to numpy array \n",
    "list_price = np.array(data.list_price).reshape((-1, 1))\n",
    "best_price = np.array(data.best_price)"
   ]
  },
  {
   "cell_type": "code",
   "execution_count": 19,
   "id": "8dea42e1",
   "metadata": {},
   "outputs": [],
   "source": [
    "# Performing cross vadilation on Linear Regression Model\n",
    "scores = cross_val_score(lm, list_price, best_price, cv=8, scoring='r2' ) # 8 fold cross validation and result will be R Square score "
   ]
  },
  {
   "cell_type": "code",
   "execution_count": 20,
   "id": "9484c695",
   "metadata": {},
   "outputs": [
    {
     "data": {
      "text/plain": [
       "array([0.94590291, 0.99797167, 0.97003369, 0.99628905, 0.98908503,\n",
       "       0.99390338, 0.9980119 , 0.97837272])"
      ]
     },
     "execution_count": 20,
     "metadata": {},
     "output_type": "execute_result"
    }
   ],
   "source": [
    "scores # Here we see cross validation score of 8 different (train and test) set based on linear regression model \n",
    "    # Maximum we can get 99.8% accuracy with this model "
   ]
  },
  {
   "cell_type": "markdown",
   "id": "7524b2cc",
   "metadata": {},
   "source": [
    "**MODEL-2 (DecisionTreeRegressor)**"
   ]
  },
  {
   "cell_type": "code",
   "execution_count": 22,
   "id": "79f32070",
   "metadata": {},
   "outputs": [],
   "source": [
    "# Creating DicisionTreeRegressor Object \n",
    "rt = DecisionTreeRegressor()"
   ]
  },
  {
   "cell_type": "code",
   "execution_count": 23,
   "id": "caf951f6",
   "metadata": {},
   "outputs": [
    {
     "data": {
      "text/plain": [
       "DecisionTreeRegressor()"
      ]
     },
     "execution_count": 23,
     "metadata": {},
     "output_type": "execute_result"
    }
   ],
   "source": [
    "# fitting X and y Training set into the model\n",
    "rt.fit(X_train, Y_train)"
   ]
  },
  {
   "cell_type": "code",
   "execution_count": 24,
   "id": "56dbe8f0",
   "metadata": {},
   "outputs": [
    {
     "name": "stdout",
     "output_type": "stream",
     "text": [
      "[16.10000038 12.5        18.60000038 14.39999962 13.39999962 16.39999962\n",
      " 16.89999962 19.60000038 13.10000038 15.60000038 15.10000038 17.20000076\n",
      " 14.         11.19999981 16.79999924 15.19999981 12.69999981 14.89999962]\n",
      "[16.10000038 12.5        18.60000038 14.39999962 13.39999962 16.39999962\n",
      " 16.89999962 19.60000038 13.10000038 15.60000038 15.10000038 17.20000076\n",
      " 14.         11.19999981 16.79999924 15.19999981 12.69999981 14.89999962]\n"
     ]
    }
   ],
   "source": [
    "# Predicting the Y(best_price) based on the list_price(Traning data)\n",
    "y_hat = rt.predict(X_train)\n",
    "print(y_hat)\n",
    "print(Y_train)"
   ]
  },
  {
   "cell_type": "code",
   "execution_count": 25,
   "id": "a46e6e0d",
   "metadata": {},
   "outputs": [
    {
     "name": "stdout",
     "output_type": "stream",
     "text": [
      "Mean Absolute Error: 0.000\n",
      "Root Mean Squared Error: 0.000\n",
      "R2 Score: 1.000\n"
     ]
    }
   ],
   "source": [
    "# Evaluating using regression Metrics \n",
    "print(\"Mean Absolute Error: %.3f\" % mean_absolute_error(Y_train, y_hat))\n",
    "print(\"Root Mean Squared Error: %.3f\" % np.sqrt(mean_squared_error(Y_train, y_hat)))\n",
    "print(\"R2 Score: %.3f\" % np.sqrt(r2_score(Y_train, y_hat)))"
   ]
  },
  {
   "cell_type": "code",
   "execution_count": 67,
   "id": "4abdbdac",
   "metadata": {},
   "outputs": [
    {
     "data": {
      "text/plain": [
       "array([-2.11306732,  0.82191785,  0.64857087,  0.77744818,  0.91266466,\n",
       "        0.88000055,  0.98458902,  0.13265298])"
      ]
     },
     "execution_count": 67,
     "metadata": {},
     "output_type": "execute_result"
    }
   ],
   "source": [
    "# Performing cross validation on regression model \n",
    "scores = cross_val_score(rt, list_price, best_price, cv=8, scoring='r2' )\n",
    "scores   # Here we see negative R value and only few are above 90 means it is not good model "
   ]
  },
  {
   "cell_type": "markdown",
   "id": "fc89c2b6",
   "metadata": {},
   "source": [
    "**MODEL-3(SUPPORT VECTOR REGRESSOR)**"
   ]
  },
  {
   "cell_type": "code",
   "execution_count": 27,
   "id": "ba677085",
   "metadata": {},
   "outputs": [],
   "source": [
    "# Creating a support vector regression object \n",
    "regressor = SVR()"
   ]
  },
  {
   "cell_type": "code",
   "execution_count": 34,
   "id": "dacc7726",
   "metadata": {},
   "outputs": [
    {
     "data": {
      "text/plain": [
       "SVR()"
      ]
     },
     "execution_count": 34,
     "metadata": {},
     "output_type": "execute_result"
    }
   ],
   "source": [
    "# Fitting X_train and Y_train into regressor object \n",
    "regressor.fit(X_train, Y_train)"
   ]
  },
  {
   "cell_type": "code",
   "execution_count": 35,
   "id": "2dc9129f",
   "metadata": {},
   "outputs": [],
   "source": [
    "y_hat = regressor.predict(X_train)"
   ]
  },
  {
   "cell_type": "code",
   "execution_count": 65,
   "id": "ffd3fd85",
   "metadata": {},
   "outputs": [
    {
     "name": "stdout",
     "output_type": "stream",
     "text": [
      "Mean Absolute Error: 2.198\n",
      "Root Mean Squared Error: 2.916\n"
     ]
    }
   ],
   "source": [
    "print(\"Mean Absolute Error: %.3f\" % mean_absolute_error(Y_train, y_hat))\n",
    "print(\"Root Mean Squared Error: %.3f\" % np.sqrt(mean_squared_error(Y_train, y_hat)))"
   ]
  },
  {
   "cell_type": "code",
   "execution_count": 37,
   "id": "be2d705a",
   "metadata": {},
   "outputs": [
    {
     "name": "stdout",
     "output_type": "stream",
     "text": [
      "Root Mean Squared Error: 0.763\n"
     ]
    }
   ],
   "source": []
  },
  {
   "cell_type": "code",
   "execution_count": 39,
   "id": "ffc3f7d6",
   "metadata": {},
   "outputs": [
    {
     "data": {
      "text/plain": [
       "array([-19.36253852,   0.99743063,   0.95174757,   0.96476074,\n",
       "         0.22838409,   0.98932947,   0.99665556,  -1.3104978 ])"
      ]
     },
     "execution_count": 39,
     "metadata": {},
     "output_type": "execute_result"
    }
   ],
   "source": [
    "scores = cross_val_score(regressor, list_price, best_price, cv=8, scoring='r2' )\n",
    "scores # Here we see negative R values and only few are above 90% means it is not good model "
   ]
  },
  {
   "cell_type": "markdown",
   "id": "21918886",
   "metadata": {},
   "source": [
    "**After performing evaluation we found out that Linear regression model gives the best accuracy.\n",
    "SO FINALLY PREDICTING TEST SET ON LINEAR MODEL** "
   ]
  },
  {
   "cell_type": "code",
   "execution_count": 69,
   "id": "7800cc48",
   "metadata": {},
   "outputs": [],
   "source": [
    "# Predicting Unseen test set on linear regression model \n",
    "Yhat = lm.predict(X_test)"
   ]
  },
  {
   "cell_type": "code",
   "execution_count": 73,
   "id": "62bbb0b2",
   "metadata": {},
   "outputs": [
    {
     "name": "stdout",
     "output_type": "stream",
     "text": [
      "predicted : [16.10220215 16.78218564 13.12727864 14.487244   15.67721308]\n",
      "actual : [16.10000038 16.79999924 13.10000038 14.39999962 15.60000038]\n"
     ]
    }
   ],
   "source": [
    "# Predicting first 6 values \n",
    "print(\"predicted :\",Yhat[:6])   \n",
    "print(\"actual :\",Y_test[:6])"
   ]
  },
  {
   "cell_type": "code",
   "execution_count": 72,
   "id": "d47f874a",
   "metadata": {},
   "outputs": [
    {
     "name": "stdout",
     "output_type": "stream",
     "text": [
      "Mean Absolute Error: 0.042\n",
      "Root Mean Squared Error: 0.054\n",
      "R2 Score: 0.999\n"
     ]
    }
   ],
   "source": [
    "\n",
    "print(\"Mean Absolute Error: %.3f\" % mean_absolute_error(Y_test, Yhat))\n",
    "print(\"Root Mean Squared Error: %.3f\" % np.sqrt(mean_squared_error(Y_test, Yhat)))\n",
    "print(\"R2 Score: %.3f\" % np.sqrt(r2_score(Y_test, Yhat)))"
   ]
  },
  {
   "cell_type": "code",
   "execution_count": null,
   "id": "d1a0ef0a",
   "metadata": {},
   "outputs": [],
   "source": []
  },
  {
   "cell_type": "code",
   "execution_count": null,
   "id": "11a4c75c",
   "metadata": {},
   "outputs": [],
   "source": []
  }
 ],
 "metadata": {
  "kernelspec": {
   "display_name": "Python 3",
   "language": "python",
   "name": "python3"
  },
  "language_info": {
   "codemirror_mode": {
    "name": "ipython",
    "version": 3
   },
   "file_extension": ".py",
   "mimetype": "text/x-python",
   "name": "python",
   "nbconvert_exporter": "python",
   "pygments_lexer": "ipython3",
   "version": "3.8.8"
  }
 },
 "nbformat": 4,
 "nbformat_minor": 5
}
